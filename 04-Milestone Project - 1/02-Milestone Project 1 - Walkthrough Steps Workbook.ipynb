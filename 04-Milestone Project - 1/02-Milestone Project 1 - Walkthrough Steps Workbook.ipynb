{
 "cells": [
  {
   "cell_type": "markdown",
   "metadata": {},
   "source": [
    "# Milestone Project 1: Walkthrough Steps Workbook\n",
    "\n",
    "Below is a set of steps for you to follow to try to create the Tic Tac Toe Milestone Project game!"
   ]
  },
  {
   "cell_type": "markdown",
   "metadata": {},
   "source": [
    "#### Some suggested tools before you get started:\n",
    "To take input from a user:\n",
    "\n",
    "    player1 = input(\"Please pick a marker 'X' or 'O'\")\n",
    "    \n",
    "Note that input() takes in a string. If you need an integer value, use\n",
    "\n",
    "    position = int(input('Please enter a number'))\n",
    "    \n",
    "<br>To clear the screen between moves:\n",
    "\n",
    "    from IPython.display import clear_output\n",
    "    clear_output()\n",
    "    \n",
    "Note that clear_output() will only work in jupyter. To clear the screen in other IDEs, consider:\n",
    "\n",
    "    print('\\n'*100)\n",
    "    \n",
    "This scrolls the previous board up out of view. Now on to the program!"
   ]
  },
  {
   "cell_type": "markdown",
   "metadata": {},
   "source": [
    "**Step 1: Write a function that can print out a board. Set up your board as a list, where each index 1-9 corresponds with a number on a number pad, so you get a 3 by 3 board representation.**"
   ]
  },
  {
   "cell_type": "code",
   "execution_count": 1,
   "metadata": {},
   "outputs": [],
   "source": [
    "from IPython.display import clear_output\n",
    "\n",
    "def display_board(board, players):\n",
    "    clear_output()\n",
    "    \n",
    "    mapper = {\"1\": \"{}|{}|{}\\n-----\", \"2\": \"{}|{}|{}\\n-----\", \"3\": \"{}|{}|{}\"}\n",
    "    \n",
    "    fila1 = mapper[\"1\"].format(board[7], board[8], board[9])\n",
    "    fila2 = mapper[\"2\"].format(board[4], board[5], board[6])\n",
    "    fila3 = mapper[\"3\"].format(board[1], board[2], board[3])\n",
    "        \n",
    "    print(\"\\n\".join([fila1, fila2, fila3]))\n",
    "    print(\"\\nplayer1 es {} y player2 es {}\".format(players[\"player1\"], players[\"player2\"]))"
   ]
  },
  {
   "cell_type": "markdown",
   "metadata": {},
   "source": [
    "**TEST Step 1:** run your function on a test version of the board list, and make adjustments as necessary"
   ]
  },
  {
   "cell_type": "code",
   "execution_count": 2,
   "metadata": {},
   "outputs": [
    {
     "name": "stdout",
     "output_type": "stream",
     "text": [
      "X|O|X\n",
      "-----\n",
      "O|X|O\n",
      "-----\n",
      "X|O|X\n",
      "\n",
      "player1 es X y player2 es O\n"
     ]
    }
   ],
   "source": [
    "test_board = ['#','X','O','X','O','X','O','X','O','X']\n",
    "display_board(test_board, {\"player1\": \"X\", \"player2\": \"O\"})"
   ]
  },
  {
   "cell_type": "markdown",
   "metadata": {},
   "source": [
    "**Step 2: Write a function that can take in a player input and assign their marker as 'X' or 'O'. Think about using *while* loops to continually ask until you get a correct answer.**"
   ]
  },
  {
   "cell_type": "code",
   "execution_count": 3,
   "metadata": {},
   "outputs": [],
   "source": [
    "def player_input():    \n",
    "    contador = 0\n",
    "    elegido = False\n",
    "    \n",
    "    while(contador < 5):\n",
    "        player1 = input(\"player1, elige 'X' o 'O'\").upper()\n",
    "        \n",
    "        if(player1!=\"X\" and player1!=\"O\"):\n",
    "            contador+=1\n",
    "            continue\n",
    "        \n",
    "        player2 = input(\"player2, elige 'X' o 'O'\").upper()\n",
    "        \n",
    "        if(player2 == player1 or (player2!=\"X\" and player2!=\"O\")):\n",
    "            contador+=1\n",
    "            player1 = \"\"\n",
    "            continue\n",
    "            \n",
    "        elegido = True\n",
    "        print(\"player1 es {} y player2 es {}\".format(player1, player2))\n",
    "        break\n",
    "        \n",
    "    if(elegido==False):\n",
    "        print(\"Game Over por notas\")\n",
    "    else:\n",
    "        players = {\"player1\": player1, \"player2\": player2}\n",
    "        return players"
   ]
  },
  {
   "cell_type": "markdown",
   "metadata": {},
   "source": [
    "**TEST Step 2:** run the function to make sure it returns the desired output"
   ]
  },
  {
   "cell_type": "code",
   "execution_count": 4,
   "metadata": {},
   "outputs": [
    {
     "name": "stdout",
     "output_type": "stream",
     "text": [
      "player1, elige 'X' o 'O'x\n",
      "player2, elige 'X' o 'O'o\n",
      "player1 es X y player2 es O\n"
     ]
    },
    {
     "data": {
      "text/plain": [
       "{'player1': 'X', 'player2': 'O'}"
      ]
     },
     "execution_count": 4,
     "metadata": {},
     "output_type": "execute_result"
    }
   ],
   "source": [
    "player_input()"
   ]
  },
  {
   "cell_type": "markdown",
   "metadata": {},
   "source": [
    "**Step 3: Write a function that takes in the board list object, a marker ('X' or 'O'), and a desired position (number 1-9) and assigns it to the board.**"
   ]
  },
  {
   "cell_type": "code",
   "execution_count": 5,
   "metadata": {},
   "outputs": [],
   "source": [
    "def place_marker(board, marker, position):\n",
    "    #board = ['#','X','O','X','O','X','O','X','O','X']\n",
    "    board[position] = marker\n",
    "    return board"
   ]
  },
  {
   "cell_type": "markdown",
   "metadata": {},
   "source": [
    "**TEST Step 3:** run the place marker function using test parameters and display the modified board"
   ]
  },
  {
   "cell_type": "code",
   "execution_count": 6,
   "metadata": {},
   "outputs": [
    {
     "name": "stdout",
     "output_type": "stream",
     "text": [
      "X|$|X\n",
      "-----\n",
      "O|X|O\n",
      "-----\n",
      "X|O|X\n",
      "\n",
      "player1 es X y player2 es O\n"
     ]
    }
   ],
   "source": [
    "place_marker(test_board,'$',8)\n",
    "display_board(test_board, {\"player1\": \"X\", \"player2\": \"O\"})"
   ]
  },
  {
   "cell_type": "markdown",
   "metadata": {},
   "source": [
    "**Step 4: Write a function that takes in a board and a mark (X or O) and then checks to see if that mark has won. **"
   ]
  },
  {
   "cell_type": "code",
   "execution_count": 7,
   "metadata": {},
   "outputs": [],
   "source": [
    "def win_check(board, mark):\n",
    "    #fila1 = mapper[\"1\"].format(board[7], board[8], board[9])\n",
    "    #fila2 = mapper[\"2\"].format(board[4], board[5], board[6])\n",
    "    #fila3 = mapper[\"3\"].format(board[1], board[2], board[3])\n",
    "    if(\n",
    "        board[7]==board[8]==board[9]==mark or\n",
    "        board[4]==board[5]==board[6]==mark or\n",
    "        board[1]==board[2]==board[3]==mark or\n",
    "        board[1]==board[4]==board[7]==mark or\n",
    "        board[2]==board[5]==board[8]==mark or\n",
    "        board[3]==board[6]==board[9]==mark or\n",
    "        board[1]==board[5]==board[9]==mark or\n",
    "        board[7]==board[5]==board[3]==mark\n",
    "    ):\n",
    "        print(\"Ha ganado {}!!!\".format(mark))\n",
    "        return True\n",
    "    else:\n",
    "        return False"
   ]
  },
  {
   "cell_type": "markdown",
   "metadata": {},
   "source": [
    "**TEST Step 4:** run the win_check function against our test_board - it should return True"
   ]
  },
  {
   "cell_type": "code",
   "execution_count": 8,
   "metadata": {},
   "outputs": [
    {
     "name": "stdout",
     "output_type": "stream",
     "text": [
      "Ha ganado X!!!\n"
     ]
    },
    {
     "data": {
      "text/plain": [
       "True"
      ]
     },
     "execution_count": 8,
     "metadata": {},
     "output_type": "execute_result"
    }
   ],
   "source": [
    "win_check(test_board,'X')"
   ]
  },
  {
   "cell_type": "markdown",
   "metadata": {},
   "source": [
    "**Step 5: Write a function that uses the random module to randomly decide which player goes first. You may want to lookup random.randint() Return a string of which player went first.**"
   ]
  },
  {
   "cell_type": "code",
   "execution_count": 9,
   "metadata": {},
   "outputs": [],
   "source": [
    "import random\n",
    "\n",
    "def choose_first():\n",
    "    random_number = random.randint(0, 100)\n",
    "    \n",
    "    if(random_number-50<=0):\n",
    "        return \"player1\"\n",
    "    else:\n",
    "        return \"player2\""
   ]
  },
  {
   "cell_type": "markdown",
   "metadata": {},
   "source": [
    "**Step 6: Write a function that returns a boolean indicating whether a space on the board is freely available.**"
   ]
  },
  {
   "cell_type": "code",
   "execution_count": 10,
   "metadata": {},
   "outputs": [],
   "source": [
    "def space_check(board, position):\n",
    "    return board[position]==board[0]"
   ]
  },
  {
   "cell_type": "markdown",
   "metadata": {},
   "source": [
    "**Step 7: Write a function that checks if the board is full and returns a boolean value. True if full, False otherwise.**"
   ]
  },
  {
   "cell_type": "code",
   "execution_count": 11,
   "metadata": {},
   "outputs": [],
   "source": [
    "def full_board_check(board):\n",
    "    return board.count(board[0])==1"
   ]
  },
  {
   "cell_type": "markdown",
   "metadata": {},
   "source": [
    "**Step 8: Write a function that asks for a player's next position (as a number 1-9) and then uses the function from step 6 to check if it's a free position. If it is, then return the position for later use.**"
   ]
  },
  {
   "cell_type": "code",
   "execution_count": 12,
   "metadata": {},
   "outputs": [],
   "source": [
    "def player_choice(board):    \n",
    "    if(full_board_check(board)==True):\n",
    "        return None\n",
    "    \n",
    "    contador = 0\n",
    "    \n",
    "    while(contador < 3):\n",
    "        position = int(input(\"Elige posición (1-9)\"))\n",
    "        \n",
    "        if(position<1 or position>9):\n",
    "            contador+=1\n",
    "            continue\n",
    "            \n",
    "        if (space_check(board, position)==True):\n",
    "            return position\n",
    "        else:\n",
    "            print(\"Casillas ocupada, seleccione otra\")"
   ]
  },
  {
   "cell_type": "markdown",
   "metadata": {},
   "source": [
    "**Step 9: Write a function that asks the player if they want to play again and returns a boolean True if they do want to play again.**"
   ]
  },
  {
   "cell_type": "code",
   "execution_count": 13,
   "metadata": {},
   "outputs": [],
   "source": [
    "def replay():\n",
    "    return input(\"Otra vez? (S/N)\").upper()==\"S\""
   ]
  },
  {
   "cell_type": "markdown",
   "metadata": {
    "collapsed": true
   },
   "source": [
    "**Step 10: Here comes the hard part! Use while loops and the functions you've made to run the game!**"
   ]
  },
  {
   "cell_type": "code",
   "execution_count": 14,
   "metadata": {},
   "outputs": [
    {
     "name": "stdout",
     "output_type": "stream",
     "text": [
      "O|X|O\n",
      "-----\n",
      "O|X|#\n",
      "-----\n",
      "#|X|X\n",
      "\n",
      "player1 es X y player2 es O\n",
      "Ha ganado X!!!\n",
      "Otra vez? (S/N)j\n",
      "Gracias por jugar!!!!\n"
     ]
    }
   ],
   "source": [
    "print('Juguemos a las tres en raya!')\n",
    "\n",
    "again=True\n",
    "\n",
    "while (again==True):\n",
    "    board = ['#','#','#','#','#','#','#','#','#','#']\n",
    "#    board = ['#','X','X','X','X','X','O','O','X','O']\n",
    "    players = player_input()\n",
    "    player = choose_first()\n",
    "\n",
    "    while True:\n",
    "        print(\"\\nSu turno {}\".format(player))\n",
    "\n",
    "        position = player_choice(board)\n",
    "\n",
    "        if(position!=None):\n",
    "            board = place_marker(board, players[player], position)\n",
    "\n",
    "            display_board(board, players)\n",
    "            \n",
    "            if(win_check(board, players[player])==True):\n",
    "                again = replay()\n",
    "                break\n",
    "            \n",
    "            if(player==\"player1\"):\n",
    "                player = \"player2\"\n",
    "            else:\n",
    "                player = \"player1\"\n",
    "        else:     \n",
    "            display_board(board, players)\n",
    "            print(\"No quedan casillas libres. Ha sido un empate\")\n",
    "            \n",
    "            again = replay()\n",
    "            break\n",
    "\n",
    "print(\"Gracias por jugar!!!!\")            "
   ]
  },
  {
   "cell_type": "markdown",
   "metadata": {
    "collapsed": true
   },
   "source": [
    "## Good Job!"
   ]
  },
  {
   "cell_type": "code",
   "execution_count": null,
   "metadata": {},
   "outputs": [],
   "source": []
  }
 ],
 "metadata": {
  "kernelspec": {
   "display_name": "Python 3",
   "language": "python",
   "name": "python3"
  },
  "language_info": {
   "codemirror_mode": {
    "name": "ipython",
    "version": 3
   },
   "file_extension": ".py",
   "mimetype": "text/x-python",
   "name": "python",
   "nbconvert_exporter": "python",
   "pygments_lexer": "ipython3",
   "version": "3.7.1"
  }
 },
 "nbformat": 4,
 "nbformat_minor": 1
}
